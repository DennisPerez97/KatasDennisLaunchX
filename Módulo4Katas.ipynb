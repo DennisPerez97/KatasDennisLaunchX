{
 "cells": [
  {
   "cell_type": "markdown",
   "metadata": {},
   "source": [
    "## Ejercicio 1: Transformar cadenas"
   ]
  },
  {
   "cell_type": "code",
   "execution_count": 137,
   "metadata": {},
   "outputs": [
    {
     "name": "stdout",
     "output_type": "stream",
     "text": [
      "['Interesting facts about the Moon', \" The Moon is Earth's only satellite\", ' There are several interesting facts about the Moon and how it affects life here on Earth', ' \\nOn average, the Moon moves 4cm away from the Earth every year', ' This yearly drift is not significant enough to cause immediate effects on Earth', ' The highest daylight temperature of the Moon is 127 C', '']\n",
      "temperature:\n",
      " The highest daylight temperature of the Moon is 127 Celsius\n",
      "average:\n",
      " \n",
      "On average, the Moon moves 4cm away from the Earth every year\n",
      "distance:\n"
     ]
    }
   ],
   "source": [
    "palabras = {'average', 'temperature', 'distance'}\n",
    "text = \"\"\"Interesting facts about the Moon. The Moon is Earth's only satellite. There are several interesting facts about the Moon and how it affects life here on Earth. \n",
    "On average, the Moon moves 4cm away from the Earth every year. This yearly drift is not significant enough to cause immediate effects on Earth. The highest daylight temperature of the Moon is 127 C.\"\"\"\n",
    "textparts=text.split('.')\n",
    "\n",
    "\n",
    "print(textparts)\n",
    "for palabra in palabras:\n",
    "    print(palabra+\":\")\n",
    "    for parte in textparts:\n",
    "        if parte.find(palabra) >=0:\n",
    "            if \"C\" in parte:\n",
    "                print(parte.replace('C', 'Celsius'))\n",
    "            else:\n",
    "                print(parte)\n"
   ]
  },
  {
   "cell_type": "markdown",
   "metadata": {},
   "source": [
    "## Ejercicio 2: Formateando Cadenas"
   ]
  },
  {
   "cell_type": "code",
   "execution_count": 169,
   "metadata": {},
   "outputs": [
    {
     "name": "stdout",
     "output_type": "stream",
     "text": [
      "Gravity Facts About Moon\n",
      "-------------------------\n",
      "Planet:Earth\n",
      "Gravity on Moon:1.6199999999999999 m/s2\n",
      "\n",
      "Gravity Facts about Marte\n",
      "-------------------------------------------------------------------------------\n",
      "Planet:Ganimedes\n",
      "Gravity on Marte: 1.4300000000000002 m/s2\n",
      "\n"
     ]
    }
   ],
   "source": [
    "\n",
    "# Datos con los que vas a trabajar\n",
    "name = \"Moon\"\n",
    "gravity = 0.00162 # in kms\n",
    "planet = \"Earth\"\n",
    "\n",
    "title = f'Gravity Facts about {name}'\n",
    "multiline = f\"\\n-------------------------\\nPlanet:{planet}\\nGravity on {name}:{gravity*1000} m/s2\"\n",
    "union=f\"{title.title()}{multiline}\"\n",
    "print(union)\n",
    "\n",
    "nombre = \"Marte\"\n",
    "gravedad = 0.00143 # in kms\n",
    "planeta = \"Ganimedes\"\n",
    "new_format = \"\"\"\n",
    "Gravity Facts about {name}\n",
    "-------------------------------------------------------------------------------\n",
    "Planet:{planet}\n",
    "Gravity on {name}: {gravity} m/s2\n",
    "\"\"\"\n",
    "print(new_format.format(planet=planeta,gravity=gravedad*1000,name=nombre))\n"
   ]
  }
 ],
 "metadata": {
  "interpreter": {
   "hash": "871cb5af1009ab844d78e44fddb4de581a85390bbd111d66fe9c299374148f2e"
  },
  "kernelspec": {
   "display_name": "Python 3.10.2 64-bit",
   "language": "python",
   "name": "python3"
  },
  "language_info": {
   "codemirror_mode": {
    "name": "ipython",
    "version": 3
   },
   "file_extension": ".py",
   "mimetype": "text/x-python",
   "name": "python",
   "nbconvert_exporter": "python",
   "pygments_lexer": "ipython3",
   "version": "3.10.2"
  },
  "orig_nbformat": 4
 },
 "nbformat": 4,
 "nbformat_minor": 2
}
