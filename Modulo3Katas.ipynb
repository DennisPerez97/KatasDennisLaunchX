{
 "cells": [
  {
   "cell_type": "code",
   "execution_count": 9,
   "metadata": {},
   "outputs": [
    {
     "name": "stdout",
     "output_type": "stream",
     "text": [
      "44\n"
     ]
    }
   ],
   "source": [
    "# Tip de práctica 1: Intenta ejecutarlo en un notebook.\n",
    "a = 97\n",
    "b = 55\n",
    "# test expression / expresión de prueba\n",
    "if a > b:\n",
    "    # statement to be run / instrucción a ejecutar\n",
    "    print(b)"
   ]
  },
  {
   "cell_type": "code",
   "execution_count": null,
   "metadata": {},
   "outputs": [],
   "source": [
    "a = 24\n",
    "b = 44\n",
    "if a <= 0:\n",
    "    print(a)\n",
    "print(b)"
   ]
  },
  {
   "cell_type": "markdown",
   "metadata": {},
   "source": [
    "## Problema 1: Asteroide a mas de 25 km/s"
   ]
  },
  {
   "cell_type": "code",
   "execution_count": 15,
   "metadata": {},
   "outputs": [
    {
     "name": "stdout",
     "output_type": "stream",
     "text": [
      "ALERTA: UN ASTEROIDE SE APROXIMA A LA TIERRA DEMASIADO RAPIDO\n"
     ]
    }
   ],
   "source": [
    "velocidad = 49\n",
    "\n",
    "if velocidad >= 25:\n",
    "    print(\"ALERTA: UN ASTEROIDE SE APROXIMA A LA TIERRA DEMASIADO RAPIDO\")\n",
    "else:\n",
    "    print(\"TODO SE ENCUENTRA EN ORDEN\")"
   ]
  },
  {
   "cell_type": "markdown",
   "metadata": {},
   "source": [
    "## Problema 2: Asteroide entro a la atmosfera"
   ]
  },
  {
   "cell_type": "code",
   "execution_count": 17,
   "metadata": {},
   "outputs": [
    {
     "name": "stdout",
     "output_type": "stream",
     "text": [
      "UN ASTEROIDE ENTRO A LA TIERRA, MANTEN CLARA LA VISTA Y AVISA A LAS AUTORIDADES SI VES ALGO\n"
     ]
    }
   ],
   "source": [
    "vatmosfera = 19\n",
    "\n",
    "if vatmosfera >= 20:\n",
    "    print(\"UN ASTEROIDE ENTRO A LA TIERRA, MANTEN CLARA LA VISTA Y AVISA A LAS AUTORIDADES SI VES ALGO\")\n",
    "else:\n",
    "    print(\"TODO SE ENCUENTRA EN ORDEN\")"
   ]
  },
  {
   "cell_type": "markdown",
   "metadata": {},
   "source": [
    "## Problema 3: Asteroide con operadores"
   ]
  },
  {
   "cell_type": "code",
   "execution_count": 21,
   "metadata": {},
   "outputs": [
    {
     "name": "stdout",
     "output_type": "stream",
     "text": [
      "ALERTA: UN ASTEROIDE DE TAMAÑO CONSIDERABLE SE APROXIMA A LA TIERRA DEMASIADO RAPIDO\n",
      "UN ASTEROIDE ENTRO A LA TIERRA, MANTEN CLARA LA VISTA Y AVISA A LAS AUTORIDADES SI VES ALGO\n"
     ]
    }
   ],
   "source": [
    "vasteroide = 49\n",
    "vatmosfera = 20\n",
    "tamaño = 25\n",
    "if vasteroide >= 25 and tamaño >= 25 and tamaño <= 1000: # si es mayor a 25 km/s\n",
    "    print(\"ALERTA: UN ASTEROIDE DE TAMAÑO CONSIDERABLE SE APROXIMA A LA TIERRA DEMASIADO RAPIDO\")\n",
    "if vatmosfera >= 20: # si es mayor a 20 km/s al entrar a la atmosfera\n",
    "    print(\"UN ASTEROIDE ENTRO A LA TIERRA, MANTEN CLARA LA VISTA Y AVISA A LAS AUTORIDADES SI VES ALGO\")\n",
    "else:\n",
    "    print(\"TODO SE ENCUENTRA EN ORDEN\")"
   ]
  }
 ],
 "metadata": {
  "interpreter": {
   "hash": "871cb5af1009ab844d78e44fddb4de581a85390bbd111d66fe9c299374148f2e"
  },
  "kernelspec": {
   "display_name": "Python 3.10.2 64-bit",
   "language": "python",
   "name": "python3"
  },
  "language_info": {
   "codemirror_mode": {
    "name": "ipython",
    "version": 3
   },
   "file_extension": ".py",
   "mimetype": "text/x-python",
   "name": "python",
   "nbconvert_exporter": "python",
   "pygments_lexer": "ipython3",
   "version": "3.10.2"
  },
  "orig_nbformat": 4
 },
 "nbformat": 4,
 "nbformat_minor": 2
}
