{
 "cells": [
  {
   "cell_type": "markdown",
   "metadata": {},
   "source": [
    "## Ejercicio1 - Utilizar operadores aritméticos"
   ]
  },
  {
   "cell_type": "code",
   "execution_count": 12,
   "metadata": {},
   "outputs": [
    {
     "name": "stdout",
     "output_type": "stream",
     "text": [
      "628949330 Kms\n",
      "390577533.93 Millas\n"
     ]
    }
   ],
   "source": [
    "tierra=149597870\n",
    "jupiter=778547200\n",
    "\n",
    "distancia = tierra-jupiter\n",
    "print(str(abs(distancia)) + \" Kms\\n\" + str(abs(distancia*0.621)) + \" Millas\")\n"
   ]
  },
  {
   "cell_type": "markdown",
   "metadata": {},
   "source": [
    "## Ejercicio 2: convierte cadenas en números y usa valores absolutos"
   ]
  },
  {
   "cell_type": "code",
   "execution_count": 40,
   "metadata": {},
   "outputs": [
    {
     "name": "stdout",
     "output_type": "stream",
     "text": [
      "Planeta 1: 100\n",
      "Planeta 2: -20\n",
      "80 Kms\n",
      "49.68 Millas\n"
     ]
    }
   ],
   "source": [
    "# Almacenar las entradas del usuario\n",
    "#Pista: variable = input(\"¿Cuál es tu nombre?\")\n",
    "i = 0\n",
    "while i == 0:\n",
    "    planeta1 = input(\"¿Cual es la distancia del planeta 1 al sol?\")\n",
    "    if str(abs(int(planeta1))).isnumeric():\n",
    "        print(\"Planeta 1: \" + planeta1)\n",
    "        planeta1=abs(int(planeta1))\n",
    "        i=1\n",
    "    else:\n",
    "        print(planeta1+\" no es numero valido\")\n",
    "\n",
    "i=0\n",
    "while i == 0:\n",
    "    planeta2 = input(\"¿Cual es la distancia del planeta 2 al sol?\")\n",
    "    if str(abs(int(planeta2))).isnumeric():\n",
    "        print(\"Planeta 2: \" + planeta2)\n",
    "        planeta2=abs(int(planeta2))\n",
    "        i=1\n",
    "    else:\n",
    "        print(planeta2+\" no es numero valido\")\n",
    "\n",
    "distancia = planeta1-planeta2\n",
    "print(str(abs(distancia)) + \" Kms\\n\" + str(abs(distancia*0.621)) + \" Millas\")"
   ]
  }
 ],
 "metadata": {
  "interpreter": {
   "hash": "871cb5af1009ab844d78e44fddb4de581a85390bbd111d66fe9c299374148f2e"
  },
  "kernelspec": {
   "display_name": "Python 3.10.2 64-bit",
   "language": "python",
   "name": "python3"
  },
  "language_info": {
   "codemirror_mode": {
    "name": "ipython",
    "version": 3
   },
   "file_extension": ".py",
   "mimetype": "text/x-python",
   "name": "python",
   "nbconvert_exporter": "python",
   "pygments_lexer": "ipython3",
   "version": "3.10.2"
  },
  "orig_nbformat": 4
 },
 "nbformat": 4,
 "nbformat_minor": 2
}
