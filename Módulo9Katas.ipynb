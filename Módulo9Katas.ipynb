{
 "cells": [
  {
   "cell_type": "markdown",
   "metadata": {},
   "source": [
    "## Ejercicio: Uso de funciones en Python"
   ]
  },
  {
   "cell_type": "code",
   "execution_count": 34,
   "metadata": {},
   "outputs": [
    {
     "name": "stdout",
     "output_type": "stream",
     "text": [
      "\n",
      "tanque1: 5%\n",
      "tanque2: 10%\n",
      "tanque3: 3%\n",
      "tanque4: 0% \n",
      "Average fuel: 4.5%\n"
     ]
    }
   ],
   "source": [
    "# Defino mi función\n",
    "def fuel_average(tanks):\n",
    "    total_tanks = 0 ##numero de tanques\n",
    "    total_gas = 0 ##total de gas\n",
    "    report =\"\"\n",
    "    for title,value in tanks.items():\n",
    "        report = report + \"\\n\" + title + \": \" + str(value) + \"%\"\n",
    "        total_tanks = total_tanks +1\n",
    "        total_gas = total_gas+value\n",
    "    print(f'{report} \\nAverage fuel: {average(total_gas,total_tanks)}%')\n",
    "def average(a,b):\n",
    "    return a/b\n",
    "fuel_average({'tanque1':5,'tanque2':10,'tanque3':3,'tanque4':0})"
   ]
  },
  {
   "cell_type": "markdown",
   "metadata": {},
   "source": [
    "## Ejercicio 2: Trabajo con argumentos de palabra clave"
   ]
  },
  {
   "cell_type": "code",
   "execution_count": 81,
   "metadata": {},
   "outputs": [
    {
     "name": "stdout",
     "output_type": "stream",
     "text": [
      "Destiny: Moon\n",
      "Travel time: 49 minutes\n",
      "\n",
      "----Extra reports----\n",
      "\n",
      "Fuel tanks\n",
      "First tank: 50%\n",
      "Second tank: 70%\n",
      "Thrid tank: 70%\n",
      "Reservoir Tank: 90%\n",
      "\n",
      "Batteries\n",
      "Principal Battery: 78%\n",
      "Light Battery: 90%\n",
      "Plug Battery: 90%\n"
     ]
    }
   ],
   "source": [
    "def report_time(time):\n",
    "    reporttime = 0\n",
    "    for iteracion in time:\n",
    "        reporttime += sum(iteracion)\n",
    "    return reporttime\n",
    "\n",
    "def informe(destiny,*time,**kwargs):\n",
    "\n",
    "    report = f\"\"\"Destiny: {destiny}\n",
    "Travel time: {report_time(time)} minutes\n",
    "\n",
    "----Extra reports----\"\"\"\n",
    "    for title, name in kwargs.items():\n",
    "        report += f'\\n\\n{title.replace(\"_\", \" \")}'\n",
    "            ##print(f'{title}')\n",
    "        for title2, name2 in name.items():\n",
    "            report += f'\\n{title2}: {name2}%'\n",
    "                ##print(f'{title2}: {name2}')\n",
    "    return report\n",
    "    \n",
    "fuel_tanks={'First tank':50,'Second tank':70,'Thrid tank':70,'Reservoir Tank':90}\n",
    "Batteries={'Principal Battery':78, 'Light Battery':90, 'Plug Battery': 90}\n",
    "firsttime = [10,15,7]\n",
    "secondtime = [5,5,7]\n",
    "print(informe('Moon', firsttime,secondtime, Fuel_tanks=fuel_tanks,Batteries=Batteries))"
   ]
  }
 ],
 "metadata": {
  "interpreter": {
   "hash": "871cb5af1009ab844d78e44fddb4de581a85390bbd111d66fe9c299374148f2e"
  },
  "kernelspec": {
   "display_name": "Python 3.10.2 64-bit",
   "language": "python",
   "name": "python3"
  },
  "language_info": {
   "codemirror_mode": {
    "name": "ipython",
    "version": 3
   },
   "file_extension": ".py",
   "mimetype": "text/x-python",
   "name": "python",
   "nbconvert_exporter": "python",
   "pygments_lexer": "ipython3",
   "version": "3.10.2"
  },
  "orig_nbformat": 4
 },
 "nbformat": 4,
 "nbformat_minor": 2
}
